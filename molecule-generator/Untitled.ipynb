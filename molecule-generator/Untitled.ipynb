{
 "cells": [
  {
   "cell_type": "code",
   "execution_count": 4,
   "id": "bda3a6f4",
   "metadata": {},
   "outputs": [],
   "source": [
    "import py3Dmol \n",
    "import copy \n",
    "from rdkit import Chem \n",
    "from rdkit.Chem import Draw\n",
    "from rdkit.Chem.Draw import IPythonConsole \n",
    "from rdkit.Chem import AllChem\n",
    "from rdkit.Chem import rdBase\n",
    "from rdkit.Chem import rdMolAlign \n",
    "from rdkit.Chem import rdMolDescriptors"
   ]
  },
  {
   "cell_type": "code",
   "execution_count": 5,
   "id": "e8223657",
   "metadata": {},
   "outputs": [],
   "source": [
    "p = AllChem.ETKDGv2()\n",
    "p.verbose = True "
   ]
  },
  {
   "cell_type": "code",
   "execution_count": 13,
   "id": "2c3f7a08",
   "metadata": {},
   "outputs": [],
   "source": [
    "path = '/home/ABTLUS/mario.neto/Desktop/Conformer3D_CID_5426.sdf'"
   ]
  },
  {
   "cell_type": "code",
   "execution_count": 14,
   "id": "e1f99c14",
   "metadata": {},
   "outputs": [
    {
     "name": "stderr",
     "output_type": "stream",
     "text": [
      "[15:14:05] [$(C=O):1][NX3H0:2]!@;-[CX4H1:3][H:4]: 10 4 6 20, (0, 8, 0, 0, 0, 0) \n",
      "[15:14:06] [$(C=O):1][NX3H0:2]!@;-[CX4H1:3][H:4]: 10 4 6 20, (0, 8, 0, 0, 0, 0) \n"
     ]
    },
    {
     "data": {
      "image/png": "[encoded data removed]",
      "text/plain": [
       "<IPython.core.display.Image object>"
      ]
     },
     "execution_count": 14,
     "metadata": {},
     "output_type": "execute_result"
    }
   ],
   "source": [
    "mols = [m for m in Chem.SDMolSupplier(path) if m != None][:6]\n",
    "for mol in mols:\n",
    "    mol.RemoveAllConformers()\n",
    "hmols_1 = [Chem.AddHs(m) for m in mols]\n",
    "hmols_2 = copy.deepcopy(hmols_1)\n",
    "# Generate 100 conformers per each molecule\n",
    "for mol in hmols_1:\n",
    "    AllChem.EmbedMultipleConfs(mol, 100, p)\n",
    "for mol in hmols_2:\n",
    "    AllChem.EmbedMultipleConfs(mol, 100, p)\n",
    "# for Ipython notebook\n",
    "Draw.MolsToGridImage(mols)"
   ]
  },
  {
   "cell_type": "code",
   "execution_count": 15,
   "id": "1107066e",
   "metadata": {},
   "outputs": [],
   "source": [
    "crippen_contribs = [rdMolDescriptors._CalcCrippenContribs(mol) for mol in hmols_1]\n",
    "crippen_ref_contrib = crippen_contribs[0]\n",
    "crippen_prob_contribs = crippen_contribs[1:]\n",
    "ref_mol1 = hmols_1[0]\n",
    "prob_mols_1 = hmols_1[1:]\n",
    " \n",
    "mmff_params = [AllChem.MMFFGetMoleculeProperties(mol) for mol in hmols_2]\n",
    "mmff_ref_param = mmff_params[0]\n",
    "mmff_prob_params = mmff_params[1:]\n",
    "ref_mol2 = hmols_2[0]\n",
    "prob_mols_2 = hmols_2[1:]"
   ]
  },
  {
   "cell_type": "code",
   "execution_count": 16,
   "id": "0afa8059",
   "metadata": {},
   "outputs": [
    {
     "data": {
      "application/3dmoljs_load.v0": "<div id=\"3dmolviewer_1668708850510624\"  style=\"position: relative; width: 600px; height: 400px\">\n        <p id=\"3dmolwarning_1668708850510624\" style=\"background-color:#ffcccc;color:black\">You appear to be running in JupyterLab (or JavaScript failed to load for some other reason).  You need to install the 3dmol extension: <br>\n        <tt>jupyter labextension install jupyterlab_3dmol</tt></p>\n        </div>\n<script>\n\nvar loadScriptAsync = function(uri){\n  return new Promise((resolve, reject) => {\n    var tag = document.createElement('script');\n    tag.src = uri;\n    tag.async = true;\n    tag.onload = () => {\n      resolve();\n    };\n  var firstScriptTag = document.getElementsByTagName('script')[0];\n  firstScriptTag.parentNode.insertBefore(tag, firstScriptTag);\n});\n};\n\nif(typeof $3Dmolpromise === 'undefined') {\n$3Dmolpromise = null;\n  $3Dmolpromise = loadScriptAsync('https://cdn.jsdelivr.net/npm/3dmol@latest/build/3Dmol-min.min.js');\n}\n\nvar viewer_1668708850510624 = null;\nvar warn = document.getElementById(\"3dmolwarning_1668708850510624\");\nif(warn) {\n    warn.parentNode.removeChild(warn);\n}\n$3Dmolpromise.then(function() {\nviewer_1668708850510624 = $3Dmol.createViewer($(\"#3dmolviewer_1668708850510624\"),{backgroundColor:\"white\"});\nviewer_1668708850510624.zoomTo();\n\tviewer_1668708850510624.addModel(\"5426\\n     RDKit          3D\\n\\n 29 31  0  0  1  0  0  0  0  0999 V2000\\n   -1.6699    1.9557    2.0897 O   0  0  0  0  0  0  0  0  0  0  0  0\\n    0.7372   -1.4654    2.4006 O   0  0  0  0  0  0  0  0  0  0  0  0\\n   -0.0903    1.0866   -1.4616 O   0  0  0  0  0  0  0  0  0  0  0  0\\n   -3.7577    1.6437   -1.9911 O   0  0  0  0  0  0  0  0  0  0  0  0\\n   -0.1909   -0.1945    0.6058 N   0  0  0  0  0  0  0  0  0  0  0  0\\n   -3.0710    1.7249    0.2320 N   0  0  0  0  0  0  0  0  0  0  0  0\\n   -1.5781   -0.1541    0.9920 C   0  0  2  0  0  0  0  0  0  0  0  0\\n   -2.5185   -0.9640    0.1645 C   0  0  0  0  0  0  0  0  0  0  0  0\\n   -2.9025   -0.3649   -1.1240 C   0  0  0  0  0  0  0  0  0  0  0  0\\n   -2.0796    1.2130    1.1590 C   0  0  0  0  0  0  0  0  0  0  0  0\\n    0.8849   -0.8232    1.3338 C   0  0  0  0  0  0  0  0  0  0  0  0\\n    0.4156    0.4091   -0.5159 C   0  0  0  0  0  0  0  0  0  0  0  0\\n    2.1386   -0.5921    0.6385 C   0  0  0  0  0  0  0  0  0  0  0  0\\n    1.8702    0.1481   -0.4764 C   0  0  0  0  0  0  0  0  0  0  0  0\\n   -3.2696    1.0486   -0.9995 C   0  0  0  0  0  0  0  0  0  0  0  0\\n    3.4409   -1.0027    0.9574 C   0  0  0  0  0  0  0  0  0  0  0  0\\n    2.9216    0.4997   -1.3124 C   0  0  0  0  0  0  0  0  0  0  0  0\\n    4.4620   -0.6378    0.1081 C   0  0  0  0  0  0  0  0  0  0  0  0\\n    4.2072    0.1090   -1.0211 C   0  0  0  0  0  0  0  0  0  0  0  0\\n   -3.6188    2.5744    0.4802 H   0  0  0  0  0  0  0  0  0  0  0  0\\n   -1.6189   -0.6452    2.0434 H   0  0  0  0  0  0  0  0  0  0  0  0\\n   -3.4691   -1.0323    0.7963 H   0  0  0  0  0  0  0  0  0  0  0  0\\n   -2.1623   -2.0305    0.0610 H   0  0  0  0  0  0  0  0  0  0  0  0\\n   -3.7877   -0.9519   -1.5698 H   0  0  0  0  0  0  0  0  0  0  0  0\\n   -2.1115   -0.4827   -1.9217 H   0  0  0  0  0  0  0  0  0  0  0  0\\n    3.6226   -1.5861    1.8441 H   0  0  0  0  0  0  0  0  0  0  0  0\\n    2.6922    1.0874   -2.1935 H   0  0  0  0  0  0  0  0  0  0  0  0\\n    5.4738   -0.9599    0.3609 H   0  0  0  0  0  0  0  0  0  0  0  0\\n    5.0297    0.3872   -1.6800 H   0  0  0  0  0  0  0  0  0  0  0  0\\n  1 10  2  0\\n  2 11  2  0\\n  3 12  2  0\\n  4 15  2  0\\n  5  7  1  0\\n  5 11  1  0\\n  5 12  1  0\\n  6 10  1  0\\n  6 15  1  0\\n  7  8  1  0\\n  7 10  1  0\\n  8  9  1  0\\n  9 15  1  0\\n 11 13  1  0\\n 12 14  1  0\\n 13 14  2  0\\n 13 16  1  0\\n 14 17  1  0\\n 16 18  2  0\\n 17 19  2  0\\n 18 19  1  0\\n  6 20  1  0\\n  7 21  1  1\\n  8 22  1  0\\n  8 23  1  0\\n  9 24  1  0\\n  9 25  1  0\\n 16 26  1  0\\n 17 27  1  0\\n 18 28  1  0\\n 19 29  1  0\\nM  END\\n\",\"sdf\");\n\tviewer_1668708850510624.setStyle({\"stick\": {}});\n\tviewer_1668708850510624.render();\nviewer_1668708850510624.render();\n});\n</script>",
      "text/html": [
       "<div id=\"3dmolviewer_1668708850510624\"  style=\"position: relative; width: 600px; height: 400px\">\n",
       "        <p id=\"3dmolwarning_1668708850510624\" style=\"background-color:#ffcccc;color:black\">You appear to be running in JupyterLab (or JavaScript failed to load for some other reason).  You need to install the 3dmol extension: <br>\n",
       "        <tt>jupyter labextension install jupyterlab_3dmol</tt></p>\n",
       "        </div>\n",
       "<script>\n",
       "\n",
       "var loadScriptAsync = function(uri){\n",
       "  return new Promise((resolve, reject) => {\n",
       "    var tag = document.createElement('script');\n",
       "    tag.src = uri;\n",
       "    tag.async = true;\n",
       "    tag.onload = () => {\n",
       "      resolve();\n",
       "    };\n",
       "  var firstScriptTag = document.getElementsByTagName('script')[0];\n",
       "  firstScriptTag.parentNode.insertBefore(tag, firstScriptTag);\n",
       "});\n",
       "};\n",
       "\n",
       "if(typeof $3Dmolpromise === 'undefined') {\n",
       "$3Dmolpromise = null;\n",
       "  $3Dmolpromise = loadScriptAsync('https://cdn.jsdelivr.net/npm/3dmol@latest/build/3Dmol-min.min.js');\n",
       "}\n",
       "\n",
       "var viewer_1668708850510624 = null;\n",
       "var warn = document.getElementById(\"3dmolwarning_1668708850510624\");\n",
       "if(warn) {\n",
       "    warn.parentNode.removeChild(warn);\n",
       "}\n",
       "$3Dmolpromise.then(function() {\n",
       "viewer_1668708850510624 = $3Dmol.createViewer($(\"#3dmolviewer_1668708850510624\"),{backgroundColor:\"white\"});\n",
       "viewer_1668708850510624.zoomTo();\n",
       "\tviewer_1668708850510624.addModel(\"5426\\n     RDKit          3D\\n\\n 29 31  0  0  1  0  0  0  0  0999 V2000\\n   -1.6699    1.9557    2.0897 O   0  0  0  0  0  0  0  0  0  0  0  0\\n    0.7372   -1.4654    2.4006 O   0  0  0  0  0  0  0  0  0  0  0  0\\n   -0.0903    1.0866   -1.4616 O   0  0  0  0  0  0  0  0  0  0  0  0\\n   -3.7577    1.6437   -1.9911 O   0  0  0  0  0  0  0  0  0  0  0  0\\n   -0.1909   -0.1945    0.6058 N   0  0  0  0  0  0  0  0  0  0  0  0\\n   -3.0710    1.7249    0.2320 N   0  0  0  0  0  0  0  0  0  0  0  0\\n   -1.5781   -0.1541    0.9920 C   0  0  2  0  0  0  0  0  0  0  0  0\\n   -2.5185   -0.9640    0.1645 C   0  0  0  0  0  0  0  0  0  0  0  0\\n   -2.9025   -0.3649   -1.1240 C   0  0  0  0  0  0  0  0  0  0  0  0\\n   -2.0796    1.2130    1.1590 C   0  0  0  0  0  0  0  0  0  0  0  0\\n    0.8849   -0.8232    1.3338 C   0  0  0  0  0  0  0  0  0  0  0  0\\n    0.4156    0.4091   -0.5159 C   0  0  0  0  0  0  0  0  0  0  0  0\\n    2.1386   -0.5921    0.6385 C   0  0  0  0  0  0  0  0  0  0  0  0\\n    1.8702    0.1481   -0.4764 C   0  0  0  0  0  0  0  0  0  0  0  0\\n   -3.2696    1.0486   -0.9995 C   0  0  0  0  0  0  0  0  0  0  0  0\\n    3.4409   -1.0027    0.9574 C   0  0  0  0  0  0  0  0  0  0  0  0\\n    2.9216    0.4997   -1.3124 C   0  0  0  0  0  0  0  0  0  0  0  0\\n    4.4620   -0.6378    0.1081 C   0  0  0  0  0  0  0  0  0  0  0  0\\n    4.2072    0.1090   -1.0211 C   0  0  0  0  0  0  0  0  0  0  0  0\\n   -3.6188    2.5744    0.4802 H   0  0  0  0  0  0  0  0  0  0  0  0\\n   -1.6189   -0.6452    2.0434 H   0  0  0  0  0  0  0  0  0  0  0  0\\n   -3.4691   -1.0323    0.7963 H   0  0  0  0  0  0  0  0  0  0  0  0\\n   -2.1623   -2.0305    0.0610 H   0  0  0  0  0  0  0  0  0  0  0  0\\n   -3.7877   -0.9519   -1.5698 H   0  0  0  0  0  0  0  0  0  0  0  0\\n   -2.1115   -0.4827   -1.9217 H   0  0  0  0  0  0  0  0  0  0  0  0\\n    3.6226   -1.5861    1.8441 H   0  0  0  0  0  0  0  0  0  0  0  0\\n    2.6922    1.0874   -2.1935 H   0  0  0  0  0  0  0  0  0  0  0  0\\n    5.4738   -0.9599    0.3609 H   0  0  0  0  0  0  0  0  0  0  0  0\\n    5.0297    0.3872   -1.6800 H   0  0  0  0  0  0  0  0  0  0  0  0\\n  1 10  2  0\\n  2 11  2  0\\n  3 12  2  0\\n  4 15  2  0\\n  5  7  1  0\\n  5 11  1  0\\n  5 12  1  0\\n  6 10  1  0\\n  6 15  1  0\\n  7  8  1  0\\n  7 10  1  0\\n  8  9  1  0\\n  9 15  1  0\\n 11 13  1  0\\n 12 14  1  0\\n 13 14  2  0\\n 13 16  1  0\\n 14 17  1  0\\n 16 18  2  0\\n 17 19  2  0\\n 18 19  1  0\\n  6 20  1  0\\n  7 21  1  1\\n  8 22  1  0\\n  8 23  1  0\\n  9 24  1  0\\n  9 25  1  0\\n 16 26  1  0\\n 17 27  1  0\\n 18 28  1  0\\n 19 29  1  0\\nM  END\\n\",\"sdf\");\n",
       "\tviewer_1668708850510624.setStyle({\"stick\": {}});\n",
       "\tviewer_1668708850510624.render();\n",
       "viewer_1668708850510624.render();\n",
       "});\n",
       "</script>"
      ]
     },
     "metadata": {},
     "output_type": "display_data"
    },
    {
     "data": {
      "text/plain": [
       "<py3Dmol.view at 0x7fe78650be20>"
      ]
     },
     "execution_count": 16,
     "metadata": {},
     "output_type": "execute_result"
    }
   ],
   "source": [
    "p_crippen = py3Dmol.view(width=600, height=400)\n",
    "p_crippen.addModel(Chem.MolToMolBlock(ref_mol1), 'sdf')\n",
    "crippen_score = []\n",
    "for idx, mol in enumerate(prob_mols_1):\n",
    "    tempscore = []\n",
    "    for cid in range(100):\n",
    "        crippenO3A = rdMolAlign.GetCrippenO3A(mol, ref_mol1, crippen_prob_contribs[idx], crippen_ref_contrib, cid, 0)\n",
    "        crippenO3A.Align()\n",
    "        tempscore.append(crippenO3A.Score())\n",
    "    best = np.argmax(tempscore)\n",
    "    p_crippen.addModel(Chem.MolToMolBlock(mol, confId=int(best)), 'sdf')\n",
    "    crippen_score.append(tempscore[best])\n",
    "p_crippen.setStyle({'stick':{}})\n",
    "p_crippen.render()"
   ]
  },
  {
   "cell_type": "code",
   "execution_count": 17,
   "id": "ed344ec8",
   "metadata": {},
   "outputs": [
    {
     "data": {
      "application/3dmoljs_load.v0": "<div id=\"3dmolviewer_16687088555954254\"  style=\"position: relative; width: 600px; height: 400px\">\n        <p id=\"3dmolwarning_16687088555954254\" style=\"background-color:#ffcccc;color:black\">You appear to be running in JupyterLab (or JavaScript failed to load for some other reason).  You need to install the 3dmol extension: <br>\n        <tt>jupyter labextension install jupyterlab_3dmol</tt></p>\n        </div>\n<script>\n\nvar loadScriptAsync = function(uri){\n  return new Promise((resolve, reject) => {\n    var tag = document.createElement('script');\n    tag.src = uri;\n    tag.async = true;\n    tag.onload = () => {\n      resolve();\n    };\n  var firstScriptTag = document.getElementsByTagName('script')[0];\n  firstScriptTag.parentNode.insertBefore(tag, firstScriptTag);\n});\n};\n\nif(typeof $3Dmolpromise === 'undefined') {\n$3Dmolpromise = null;\n  $3Dmolpromise = loadScriptAsync('https://cdn.jsdelivr.net/npm/3dmol@latest/build/3Dmol-min.min.js');\n}\n\nvar viewer_16687088555954254 = null;\nvar warn = document.getElementById(\"3dmolwarning_16687088555954254\");\nif(warn) {\n    warn.parentNode.removeChild(warn);\n}\n$3Dmolpromise.then(function() {\nviewer_16687088555954254 = $3Dmol.createViewer($(\"#3dmolviewer_16687088555954254\"),{backgroundColor:\"white\"});\nviewer_16687088555954254.zoomTo();\n\tviewer_16687088555954254.addModel(\"5426\\n     RDKit          3D\\n\\n 29 31  0  0  1  0  0  0  0  0999 V2000\\n   -1.2663   -2.4476    0.5429 O   0  0  0  0  0  0  0  0  0  0  0  0\\n    0.4850    0.7266   -2.2599 O   0  0  0  0  0  0  0  0  0  0  0  0\\n    0.4110   -0.7405    2.1887 O   0  0  0  0  0  0  0  0  0  0  0  0\\n   -5.0921   -0.4704   -1.0880 O   0  0  0  0  0  0  0  0  0  0  0  0\\n   -0.0343   -0.0466   -0.0414 N   0  0  0  0  0  0  0  0  0  0  0  0\\n   -3.3547   -1.6731   -0.1350 N   0  0  0  0  0  0  0  0  0  0  0  0\\n   -1.4468   -0.1313   -0.1538 C   0  0  2  0  0  0  0  0  0  0  0  0\\n   -2.2035    0.7655    0.7959 C   0  0  0  0  0  0  0  0  0  0  0  0\\n   -3.6436    0.8027    0.3396 C   0  0  0  0  0  0  0  0  0  0  0  0\\n   -1.9562   -1.5227    0.1292 C   0  0  0  0  0  0  0  0  0  0  0  0\\n    0.8393    0.3704   -1.0820 C   0  0  0  0  0  0  0  0  0  0  0  0\\n    0.8163   -0.3396    1.0740 C   0  0  0  0  0  0  0  0  0  0  0  0\\n    2.2220    0.3464   -0.6463 C   0  0  0  0  0  0  0  0  0  0  0  0\\n    2.1889   -0.0858    0.6610 C   0  0  0  0  0  0  0  0  0  0  0  0\\n   -4.0662   -0.4518   -0.3226 C   0  0  0  0  0  0  0  0  0  0  0  0\\n    3.4071    0.6649   -1.3056 C   0  0  0  0  0  0  0  0  0  0  0  0\\n    3.3969   -0.1997    1.3248 C   0  0  0  0  0  0  0  0  0  0  0  0\\n    4.5917    0.5420   -0.6207 C   0  0  0  0  0  0  0  0  0  0  0  0\\n    4.5762    0.1123    0.6839 C   0  0  0  0  0  0  0  0  0  0  0  0\\n   -3.8041   -2.6043   -0.1841 H   0  0  0  0  0  0  0  0  0  0  0  0\\n   -1.7531    0.1770   -1.1729 H   0  0  0  0  0  0  0  0  0  0  0  0\\n   -1.8243    1.8251    0.7128 H   0  0  0  0  0  0  0  0  0  0  0  0\\n   -2.1039    0.4901    1.8453 H   0  0  0  0  0  0  0  0  0  0  0  0\\n   -4.3320    0.9951    1.1870 H   0  0  0  0  0  0  0  0  0  0  0  0\\n   -3.7936    1.6385   -0.3797 H   0  0  0  0  0  0  0  0  0  0  0  0\\n    3.3660    1.0035   -2.3476 H   0  0  0  0  0  0  0  0  0  0  0  0\\n    3.3534   -0.5402    2.3504 H   0  0  0  0  0  0  0  0  0  0  0  0\\n    5.5073    0.7871   -1.1267 H   0  0  0  0  0  0  0  0  0  0  0  0\\n    5.5135    0.0063    1.2527 H   0  0  0  0  0  0  0  0  0  0  0  0\\n  1 10  2  0\\n  2 11  2  0\\n  3 12  2  0\\n  4 15  2  0\\n  5  7  1  0\\n  5 11  1  0\\n  5 12  1  0\\n  6 10  1  0\\n  6 15  1  0\\n  7  8  1  0\\n  7 10  1  0\\n  8  9  1  0\\n  9 15  1  0\\n 11 13  1  0\\n 12 14  1  0\\n 13 14  2  0\\n 13 16  1  0\\n 14 17  1  0\\n 16 18  2  0\\n 17 19  2  0\\n 18 19  1  0\\n  6 20  1  0\\n  7 21  1  6\\n  8 22  1  0\\n  8 23  1  0\\n  9 24  1  0\\n  9 25  1  0\\n 16 26  1  0\\n 17 27  1  0\\n 18 28  1  0\\n 19 29  1  0\\nM  END\\n\",\"sdf\");\n\tviewer_16687088555954254.setStyle({\"stick\": {\"colorscheme\": \"cyanCarbon\"}});\n\tviewer_16687088555954254.render();\nviewer_16687088555954254.render();\n});\n</script>",
      "text/html": [
       "<div id=\"3dmolviewer_16687088555954254\"  style=\"position: relative; width: 600px; height: 400px\">\n",
       "        <p id=\"3dmolwarning_16687088555954254\" style=\"background-color:#ffcccc;color:black\">You appear to be running in JupyterLab (or JavaScript failed to load for some other reason).  You need to install the 3dmol extension: <br>\n",
       "        <tt>jupyter labextension install jupyterlab_3dmol</tt></p>\n",
       "        </div>\n",
       "<script>\n",
       "\n",
       "var loadScriptAsync = function(uri){\n",
       "  return new Promise((resolve, reject) => {\n",
       "    var tag = document.createElement('script');\n",
       "    tag.src = uri;\n",
       "    tag.async = true;\n",
       "    tag.onload = () => {\n",
       "      resolve();\n",
       "    };\n",
       "  var firstScriptTag = document.getElementsByTagName('script')[0];\n",
       "  firstScriptTag.parentNode.insertBefore(tag, firstScriptTag);\n",
       "});\n",
       "};\n",
       "\n",
       "if(typeof $3Dmolpromise === 'undefined') {\n",
       "$3Dmolpromise = null;\n",
       "  $3Dmolpromise = loadScriptAsync('https://cdn.jsdelivr.net/npm/3dmol@latest/build/3Dmol-min.min.js');\n",
       "}\n",
       "\n",
       "var viewer_16687088555954254 = null;\n",
       "var warn = document.getElementById(\"3dmolwarning_16687088555954254\");\n",
       "if(warn) {\n",
       "    warn.parentNode.removeChild(warn);\n",
       "}\n",
       "$3Dmolpromise.then(function() {\n",
       "viewer_16687088555954254 = $3Dmol.createViewer($(\"#3dmolviewer_16687088555954254\"),{backgroundColor:\"white\"});\n",
       "viewer_16687088555954254.zoomTo();\n",
       "\tviewer_16687088555954254.addModel(\"5426\\n     RDKit          3D\\n\\n 29 31  0  0  1  0  0  0  0  0999 V2000\\n   -1.2663   -2.4476    0.5429 O   0  0  0  0  0  0  0  0  0  0  0  0\\n    0.4850    0.7266   -2.2599 O   0  0  0  0  0  0  0  0  0  0  0  0\\n    0.4110   -0.7405    2.1887 O   0  0  0  0  0  0  0  0  0  0  0  0\\n   -5.0921   -0.4704   -1.0880 O   0  0  0  0  0  0  0  0  0  0  0  0\\n   -0.0343   -0.0466   -0.0414 N   0  0  0  0  0  0  0  0  0  0  0  0\\n   -3.3547   -1.6731   -0.1350 N   0  0  0  0  0  0  0  0  0  0  0  0\\n   -1.4468   -0.1313   -0.1538 C   0  0  2  0  0  0  0  0  0  0  0  0\\n   -2.2035    0.7655    0.7959 C   0  0  0  0  0  0  0  0  0  0  0  0\\n   -3.6436    0.8027    0.3396 C   0  0  0  0  0  0  0  0  0  0  0  0\\n   -1.9562   -1.5227    0.1292 C   0  0  0  0  0  0  0  0  0  0  0  0\\n    0.8393    0.3704   -1.0820 C   0  0  0  0  0  0  0  0  0  0  0  0\\n    0.8163   -0.3396    1.0740 C   0  0  0  0  0  0  0  0  0  0  0  0\\n    2.2220    0.3464   -0.6463 C   0  0  0  0  0  0  0  0  0  0  0  0\\n    2.1889   -0.0858    0.6610 C   0  0  0  0  0  0  0  0  0  0  0  0\\n   -4.0662   -0.4518   -0.3226 C   0  0  0  0  0  0  0  0  0  0  0  0\\n    3.4071    0.6649   -1.3056 C   0  0  0  0  0  0  0  0  0  0  0  0\\n    3.3969   -0.1997    1.3248 C   0  0  0  0  0  0  0  0  0  0  0  0\\n    4.5917    0.5420   -0.6207 C   0  0  0  0  0  0  0  0  0  0  0  0\\n    4.5762    0.1123    0.6839 C   0  0  0  0  0  0  0  0  0  0  0  0\\n   -3.8041   -2.6043   -0.1841 H   0  0  0  0  0  0  0  0  0  0  0  0\\n   -1.7531    0.1770   -1.1729 H   0  0  0  0  0  0  0  0  0  0  0  0\\n   -1.8243    1.8251    0.7128 H   0  0  0  0  0  0  0  0  0  0  0  0\\n   -2.1039    0.4901    1.8453 H   0  0  0  0  0  0  0  0  0  0  0  0\\n   -4.3320    0.9951    1.1870 H   0  0  0  0  0  0  0  0  0  0  0  0\\n   -3.7936    1.6385   -0.3797 H   0  0  0  0  0  0  0  0  0  0  0  0\\n    3.3660    1.0035   -2.3476 H   0  0  0  0  0  0  0  0  0  0  0  0\\n    3.3534   -0.5402    2.3504 H   0  0  0  0  0  0  0  0  0  0  0  0\\n    5.5073    0.7871   -1.1267 H   0  0  0  0  0  0  0  0  0  0  0  0\\n    5.5135    0.0063    1.2527 H   0  0  0  0  0  0  0  0  0  0  0  0\\n  1 10  2  0\\n  2 11  2  0\\n  3 12  2  0\\n  4 15  2  0\\n  5  7  1  0\\n  5 11  1  0\\n  5 12  1  0\\n  6 10  1  0\\n  6 15  1  0\\n  7  8  1  0\\n  7 10  1  0\\n  8  9  1  0\\n  9 15  1  0\\n 11 13  1  0\\n 12 14  1  0\\n 13 14  2  0\\n 13 16  1  0\\n 14 17  1  0\\n 16 18  2  0\\n 17 19  2  0\\n 18 19  1  0\\n  6 20  1  0\\n  7 21  1  6\\n  8 22  1  0\\n  8 23  1  0\\n  9 24  1  0\\n  9 25  1  0\\n 16 26  1  0\\n 17 27  1  0\\n 18 28  1  0\\n 19 29  1  0\\nM  END\\n\",\"sdf\");\n",
       "\tviewer_16687088555954254.setStyle({\"stick\": {\"colorscheme\": \"cyanCarbon\"}});\n",
       "\tviewer_16687088555954254.render();\n",
       "viewer_16687088555954254.render();\n",
       "});\n",
       "</script>"
      ]
     },
     "metadata": {},
     "output_type": "display_data"
    },
    {
     "data": {
      "text/plain": [
       "<py3Dmol.view at 0x7fe7865032b0>"
      ]
     },
     "execution_count": 17,
     "metadata": {},
     "output_type": "execute_result"
    }
   ],
   "source": [
    "p_O3A = py3Dmol.view(width=600, height=400)\n",
    "p_O3A.addModel(Chem.MolToMolBlock(ref_mol2), 'sdf')\n",
    "pyO3A_score = []\n",
    "for idx, mol in enumerate(prob_mols_2):\n",
    "    tempscore = []\n",
    "    for cid in range(100):\n",
    "        pyO3A = rdMolAlign.GetO3A(mol, ref_mol2, mmff_prob_params[idx], mmff_ref_param, cid, 0)\n",
    "        pyO3A.Align()\n",
    "        tempscore.append(pyO3A.Score())\n",
    "    best = np.argmax(tempscore)\n",
    "    p_O3A.addModel(Chem.MolToMolBlock(mol, confId=int(best)), 'sdf')\n",
    "    pyO3A_score.append(tempscore[best])\n",
    "p_O3A.setStyle({'stick':{'colorscheme':'cyanCarbon'}})\n",
    "p_O3A.render()"
   ]
  },
  {
   "cell_type": "code",
   "execution_count": null,
   "id": "a9d1c77d",
   "metadata": {},
   "outputs": [],
   "source": []
  }
 ],
 "metadata": {
  "kernelspec": {
   "display_name": "Python 3 (ipykernel)",
   "language": "python",
   "name": "python3"
  },
  "language_info": {
   "codemirror_mode": {
    "name": "ipython",
    "version": 3
   },
   "file_extension": ".py",
   "mimetype": "text/x-python",
   "name": "python",
   "nbconvert_exporter": "python",
   "pygments_lexer": "ipython3",
   "version": "3.8.13"
  }
 },
 "nbformat": 4,
 "nbformat_minor": 5
}
