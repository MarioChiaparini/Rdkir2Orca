{
 "cells": [
  {
   "cell_type": "code",
   "execution_count": 53,
   "id": "0873cafe-0a1a-4618-b6f1-a0235a5d7fb3",
   "metadata": {},
   "outputs": [],
   "source": [
    "import py3Dmol\n",
    "from rdkit import Chem\n",
    "from rdkit.Chem import Draw\n",
    "from rdkit.Chem.Draw import IPythonConsole\n",
    "from rdkit.Chem import PandasTools \n",
    "from rdkit.Chem.PandasTools import LoadSDF"
   ]
  },
  {
   "cell_type": "code",
   "execution_count": 54,
   "id": "73b709e0-8996-43e1-aff0-f4bd3ba99857",
   "metadata": {},
   "outputs": [],
   "source": [
    "path1 = \"/Users/mariochiaparini/Desktop/Rdkir2Orca/Molecules/benzene-3D-structure-CT1001419667.sdf\"\n",
    "path2 = \"/Users/mariochiaparini/Desktop/Rdkir2Orca/Molecules/SULFURIC-ACID-3D-structure-CT1002595762.sdf\""
   ]
  },
  {
   "cell_type": "code",
   "execution_count": 55,
   "id": "44d5fa70-e554-4530-a9d3-381cd11e1d06",
   "metadata": {},
   "outputs": [],
   "source": [
    "benzene = LoadSDF(path1, smilesName='SMILES').SMILES\n",
    "sulfuric_acid = LoadSDF(path2, smilesName='SMILES').SMILES"
   ]
  },
  {
   "cell_type": "code",
   "execution_count": 56,
   "id": "9c6aad33-f761-44ff-a56f-b7a2099cabc5",
   "metadata": {},
   "outputs": [],
   "source": [
    "mol_benzene = Chem.MolFromSmiles(benzene[0])\n",
    "benzene = Chem.AddHs(mol_benzene)"
   ]
  },
  {
   "cell_type": "code",
   "execution_count": 57,
   "id": "7cef093e-f88d-4ac4-af7f-3fcc1f241e1c",
   "metadata": {},
   "outputs": [],
   "source": [
    "mol_sulfuric_acid = Chem.MolFromSmiles(sulfuric_acid[0])\n",
    "sulfuric_acid = Chem.AddHs(mol_sulfuric_acid)"
   ]
  },
  {
   "cell_type": "code",
   "execution_count": 58,
   "id": "1a49321d-e9e4-4dc7-9753-e49f3dca8043",
   "metadata": {},
   "outputs": [
    {
     "data": {
      "image/png": "[encoded data removed]",
      "text/plain": [
       "<rdkit.Chem.rdchem.Mol at 0x7faaf0fef5e0>"
      ]
     },
     "execution_count": 58,
     "metadata": {},
     "output_type": "execute_result"
    }
   ],
   "source": [
    "sulfuric_acid"
   ]
  },
  {
   "cell_type": "code",
   "execution_count": 59,
   "id": "71a722f4-ab85-475c-b908-e9dc797799a5",
   "metadata": {},
   "outputs": [],
   "source": [
    "combine = Chem.CombineMols(benzene, sulfuric_acid)"
   ]
  },
  {
   "cell_type": "code",
   "execution_count": 60,
   "id": "dd4cd129-1023-4209-ad60-94154f6abf25",
   "metadata": {},
   "outputs": [
    {
     "data": {
      "image/png": "[encoded data removed]",
      "text/plain": [
       "<rdkit.Chem.rdchem.Mol at 0x7faac3508100>"
      ]
     },
     "execution_count": 60,
     "metadata": {},
     "output_type": "execute_result"
    }
   ],
   "source": [
    "combine"
   ]
  },
  {
   "cell_type": "code",
   "execution_count": 61,
   "id": "0e5a1239-f5a3-4578-86fd-a62ff67bcf4c",
   "metadata": {},
   "outputs": [
    {
     "data": {
      "text/plain": [
       "rdkit.Chem.rdchem.Mol"
      ]
     },
     "execution_count": 61,
     "metadata": {},
     "output_type": "execute_result"
    }
   ],
   "source": [
    "type(combine)"
   ]
  },
  {
   "cell_type": "code",
   "execution_count": 62,
   "id": "b8782e04-272e-4646-8f28-1e98df3d5e25",
   "metadata": {},
   "outputs": [],
   "source": [
    "#with Chem.SDWriter('/Users/mariochiaparini/Desktop/Rdkir2Orca/Molecules/Foo.sdf') as w:\n",
    "#    for m in combine:\n",
    "#        w.write(m)"
   ]
  },
  {
   "cell_type": "code",
   "execution_count": 63,
   "id": "a6156674-8879-4161-9069-905093c8c608",
   "metadata": {},
   "outputs": [],
   "source": [
    "w1 = Chem.SDWriter('/Users/mariochiaparini/Desktop/Rdkir2Orca/Molecules/foo.sdf')\n",
    "w1.write(combine)\n",
    "w1.close() "
   ]
  }
 ],
 "metadata": {
  "kernelspec": {
   "display_name": "Python 3 (ipykernel)",
   "language": "python",
   "name": "python3"
  },
  "language_info": {
   "codemirror_mode": {
    "name": "ipython",
    "version": 3
   },
   "file_extension": ".py",
   "mimetype": "text/x-python",
   "name": "python",
   "nbconvert_exporter": "python",
   "pygments_lexer": "ipython3",
   "version": "3.9.12"
  }
 },
 "nbformat": 4,
 "nbformat_minor": 5
}
